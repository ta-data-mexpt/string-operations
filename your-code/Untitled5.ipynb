{
 "cells": [
  {
   "cell_type": "code",
   "execution_count": 45,
   "metadata": {},
   "outputs": [],
   "source": [
    "blacklist = ['and', 'as', 'an', 'a', 'the', 'in', 'it']\n",
    "\n",
    "poem = \"\"\"I was angry with my friend; \n",
    "I told my wrath, my wrath did end.\n",
    "I was angry with my foe: \n",
    "I told it not, my wrath did grow. \n",
    "\n",
    "And I waterd it in fears,\n",
    "Night & morning with my tears: \n",
    "And I sunned it with smiles,\n",
    "And with soft deceitful wiles. \n",
    "\n",
    "And it grew both day and night. \n",
    "Till it bore an apple bright. \n",
    "And my foe beheld it shine,\n",
    "And he knew that it was mine. \n",
    "\n",
    "And into my garden stole, \n",
    "When the night had veild the pole; \n",
    "In the morning glad I see; \n",
    "My foe outstretched beneath the tree.\"\"\""
   ]
  },
  {
   "cell_type": "code",
   "execution_count": 46,
   "metadata": {},
   "outputs": [
    {
     "name": "stdout",
     "output_type": "stream",
     "text": [
      "['I', 'w', 'a', 's', 'a', 'n', 'g', 'r', 'y', 'w', 'i', 't', 'h', 'm', 'y', 'f', 'r', 'i', 'e', 'n', 'd', 'I', 't', 'o', 'l', 'd', 'm', 'y', 'w', 'r', 'a', 't', 'h', 'm', 'y', 'w', 'r', 'a', 't', 'h', 'd', 'i', 'd', 'e', 'n', 'd', 'I', 'w', 'a', 's', 'a', 'n', 'g', 'r', 'y', 'w', 'i', 't', 'h', 'm', 'y', 'f', 'o', 'e', 'I', 't', 'o', 'l', 'd', 'i', 't', 'n', 'o', 't', 'm', 'y', 'w', 'r', 'a', 't', 'h', 'd', 'i', 'd', 'g', 'r', 'o', 'w', 'A', 'n', 'd', 'I', 'w', 'a', 't', 'e', 'r', 'd', 'i', 't', 'i', 'n', 'f', 'e', 'a', 'r', 's', 'N', 'i', 'g', 'h', 't', 'm', 'o', 'r', 'n', 'i', 'n', 'g', 'w', 'i', 't', 'h', 'm', 'y', 't', 'e', 'a', 'r', 's', 'A', 'n', 'd', 'I', 's', 'u', 'n', 'n', 'e', 'd', 'i', 't', 'w', 'i', 't', 'h', 's', 'm', 'i', 'l', 'e', 's', 'A', 'n', 'd', 'w', 'i', 't', 'h', 's', 'o', 'f', 't', 'd', 'e', 'c', 'e', 'i', 't', 'f', 'u', 'l', 'w', 'i', 'l', 'e', 's', 'A', 'n', 'd', 'i', 't', 'g', 'r', 'e', 'w', 'b', 'o', 't', 'h', 'd', 'a', 'y', 'a', 'n', 'd', 'n', 'i', 'g', 'h', 't', 'T', 'i', 'l', 'l', 'i', 't', 'b', 'o', 'r', 'e', 'a', 'n', 'a', 'p', 'p', 'l', 'e', 'b', 'r', 'i', 'g', 'h', 't', 'A', 'n', 'd', 'm', 'y', 'f', 'o', 'e', 'b', 'e', 'h', 'e', 'l', 'd', 'i', 't', 's', 'h', 'i', 'n', 'e', 'A', 'n', 'd', 'h', 'e', 'k', 'n', 'e', 'w', 't', 'h', 'a', 't', 'i', 't', 'w', 'a', 's', 'm', 'i', 'n', 'e', 'A', 'n', 'd', 'i', 'n', 't', 'o', 'm', 'y', 'g', 'a', 'r', 'd', 'e', 'n', 's', 't', 'o', 'l', 'e', 'W', 'h', 'e', 'n', 't', 'h', 'e', 'n', 'i', 'g', 'h', 't', 'h', 'a', 'd', 'v', 'e', 'i', 'l', 'd', 't', 'h', 'e', 'p', 'o', 'l', 'e', 'I', 'n', 't', 'h', 'e', 'm', 'o', 'r', 'n', 'i', 'n', 'g', 'g', 'l', 'a', 'd', 'I', 's', 'e', 'e', 'M', 'y', 'f', 'o', 'e', 'o', 'u', 't', 's', 't', 'r', 'e', 't', 'c', 'h', 'e', 'd', 'b', 'e', 'n', 'e', 'a', 't', 'h', 't', 'h', 'e', 't', 'r', 'e', 'e']\n"
     ]
    }
   ],
   "source": [
    "print(re.findall('[a-zA-Z]', poem))"
   ]
  },
  {
   "cell_type": "code",
   "execution_count": 35,
   "metadata": {},
   "outputs": [
    {
     "name": "stdout",
     "output_type": "stream",
     "text": [
      "{'glad', 'wrath', 'into', 'veild', 'when', 'foe', 'foe:', 'told', 'till', 'mine.', 'end.', 'garden', 'i', 'was', 'he', 'with', 'did', 'fears,', 'deceitful', 'beheld', 'stole,', 'an', 'pole;', 'soft', 'see;', 'in', 'morning', 'outstretched', 'waterd', 'night', 'grew', 'beneath', 'friend;', 'that', 'had', 'wiles.', 'apple', 'tree.', 'grow.', 'smiles,', 'bore', 'bright.', 'shine,', 'wrath,', 'not,', 'both', 'it', 'the', 'knew', 'day', '&', 'my', 'night.', 'angry', 'and', 'sunned', 'tears:'}\n"
     ]
    }
   ],
   "source": [
    "poem_l = poem.lower()\n",
    "poem_2 = poem_l.split()\n",
    "set_poem = set(poem_2)\n",
    "print (set_poem)"
   ]
  },
  {
   "cell_type": "code",
   "execution_count": 37,
   "metadata": {},
   "outputs": [
    {
     "name": "stdout",
     "output_type": "stream",
     "text": [
      "{'in', 'an', 'the', 'it', 'a', 'and', 'as'}\n"
     ]
    }
   ],
   "source": [
    "set_blacklist = set(blacklist)\n",
    "print(set_blacklist)"
   ]
  },
  {
   "cell_type": "code",
   "execution_count": 43,
   "metadata": {},
   "outputs": [
    {
     "name": "stdout",
     "output_type": "stream",
     "text": [
      "['glad', 'wrath', 'into', 'veild', 'when', 'foe', 'foe:', 'told', 'till', 'mine.', 'end.', 'garden', 'i', 'was', 'he', 'with', 'did', 'fears,', 'deceitful', 'beheld', 'stole,', 'pole;', 'soft', 'see;', 'morning', 'outstretched', 'waterd', 'night', 'grew', 'beneath', 'friend;', 'that', 'had', 'wiles.', 'apple', 'tree.', 'grow.', 'smiles,', 'bore', 'bright.', 'shine,', 'wrath,', 'not,', 'both', 'knew', 'day', '&', 'my', 'night.', 'angry', 'sunned', 'tears:']\n"
     ]
    }
   ],
   "source": [
    "answer = list((set_poem.difference(set_blacklist)))\n",
    "print(answer)"
   ]
  },
  {
   "cell_type": "code",
   "execution_count": 50,
   "metadata": {},
   "outputs": [],
   "source": [
    "import re"
   ]
  },
  {
   "cell_type": "code",
   "execution_count": 51,
   "metadata": {},
   "outputs": [
    {
     "name": "stdout",
     "output_type": "stream",
     "text": [
      "['bananas', 'chocolate', 'bread', 'diapers', 'ice cream', 'brownie mix', 'broccoli']\n"
     ]
    }
   ],
   "source": [
    "food_list = ['Bananas', 'Chocolate', 'bread', 'diapers', 'Ice Cream', 'Brownie Mix', 'broccoli']\n",
    "food_list_lower = []\n",
    "\n",
    "for i in food_list:\n",
    "    food_list_lower.append(i.lower())\n",
    "    \n",
    "print(food_list_lower)"
   ]
  },
  {
   "cell_type": "code",
   "execution_count": null,
   "metadata": {},
   "outputs": [],
   "source": [
    "fruits=['orange', 'grape', 'kiwi', 'apple', 'mango', 'fig', 'lemon']\n",
    "newList = []\n",
    "for fruit in fruits:\n",
    "    newList.append(fruit.upper())\n",
    "print(newList)"
   ]
  },
  {
   "cell_type": "code",
   "execution_count": null,
   "metadata": {},
   "outputs": [],
   "source": []
  }
 ],
 "metadata": {
  "kernelspec": {
   "display_name": "Python 3",
   "language": "python",
   "name": "python3"
  },
  "language_info": {
   "codemirror_mode": {
    "name": "ipython",
    "version": 3
   },
   "file_extension": ".py",
   "mimetype": "text/x-python",
   "name": "python",
   "nbconvert_exporter": "python",
   "pygments_lexer": "ipython3",
   "version": "3.8.5"
  }
 },
 "nbformat": 4,
 "nbformat_minor": 4
}
