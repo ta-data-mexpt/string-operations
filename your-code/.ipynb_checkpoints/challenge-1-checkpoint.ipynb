{
 "cells": [
  {
   "cell_type": "markdown",
   "metadata": {},
   "source": [
    "# String Operations Lab\n",
    "\n",
    "**Before your start:**\n",
    "\n",
    "- Read the README.md file\n",
    "- Comment as much as you can and use the resources in the README.md file\n",
    "- Happy learning!"
   ]
  },
  {
   "cell_type": "code",
   "execution_count": null,
   "metadata": {},
   "outputs": [],
   "source": [
    "import re"
   ]
  },
  {
   "cell_type": "markdown",
   "metadata": {},
   "source": [
    "# Challenge 1 - Combining Strings\n",
    "\n",
    "Combining strings is an important skill to acquire. There are multiple ways of combining strings in Python, as well as combining strings with variables. We will explore this in the first challenge. In the cell below, combine the strings in the list and add spaces between the strings (do not add a space after the last string). Insert a period after the last string."
   ]
  },
  {
   "cell_type": "code",
   "execution_count": 1,
   "metadata": {},
   "outputs": [
    {
     "name": "stdout",
     "output_type": "stream",
     "text": [
      "Durante un tiempo no estuvo segura de si su marido era su marido.\n"
     ]
    }
   ],
   "source": [
    "str_list = ['Durante', 'un', 'tiempo', 'no', 'estuvo', 'segura', 'de', 'si', 'su', 'marido', 'era', 'su', 'marido']\n",
    "# Your code here:\n",
    "\n",
    "my_string = \" \".join(str_list) + \".\"\n",
    "print(my_string)\n"
   ]
  },
  {
   "cell_type": "markdown",
   "metadata": {},
   "source": [
    "In the cell below, use the list of strings to create a grocery list. Start the list with the string `Grocery list: ` and include a comma and a space between each item except for the last one. Include a period at the end. Only include foods in the list that start with the letter 'b' and ensure all foods are lower case."
   ]
  },
  {
   "cell_type": "code",
   "execution_count": 9,
   "metadata": {},
   "outputs": [
    {
     "name": "stdout",
     "output_type": "stream",
     "text": [
      "Grocery list: bananas, bread, brownie mix, broccoli.\n"
     ]
    }
   ],
   "source": [
    "food_list = ['Bananas', 'Chocolate', 'bread', 'diapers', 'Ice Cream', 'Brownie Mix', 'broccoli']\n",
    "# Your code here:\n",
    "\n",
    "food_list_string = \"Grocery list:\"\n",
    "\n",
    "for food in food_list:\n",
    "    if food.lower()[0] == \"b\":\n",
    "        food_list_string += f\" {food.lower()},\"\n",
    "\n",
    "final_food_string = food_list_string[:-1]\n",
    "\n",
    "final_food_string += \".\"\n",
    "\n",
    "print(final_food_string)\n",
    "\n"
   ]
  },
  {
   "cell_type": "markdown",
   "metadata": {},
   "source": [
    "In the cell below, write a function that computes the area of a circle using its radius. Compute the area of the circle and insert the radius and the area between the two strings. Make sure to include spaces between the variable and the strings. \n",
    "\n",
    "Note: You can use the techniques we have learned so far or use f-strings. F-strings allow us to embed code inside strings. You can read more about f-strings [here](https://www.python.org/dev/peps/pep-0498/)."
   ]
  },
  {
   "cell_type": "code",
   "execution_count": 14,
   "metadata": {},
   "outputs": [
    {
     "name": "stdout",
     "output_type": "stream",
     "text": [
      "The area of the circle with radius: 4.5 is: 63.61725123519331\n"
     ]
    }
   ],
   "source": [
    "import math\n",
    "\n",
    "string1 = \"The area of the circle with radius:\"\n",
    "string2  = \"is:\"\n",
    "radius = 4.5\n",
    "\n",
    "def area(x, pi = math.pi):\n",
    "    # This function takes a radius and returns the area of a circle. We also pass a default value for pi.\n",
    "    # Input: Float (and default value for pi)\n",
    "    # Output: Float\n",
    "    \n",
    "    # Sample input: 5.0\n",
    "    # Sample Output: 78.53981633\n",
    "    \n",
    "    # Your code here:\n",
    "    area = pi*x**2\n",
    "    return area\n",
    "\n",
    "area = area(radius)   \n",
    "    \n",
    "# Your output string here:\n",
    "\n",
    "print(f\"{string1} {radius} {string2} {area}\")"
   ]
  },
  {
   "cell_type": "markdown",
   "metadata": {},
   "source": [
    "# Challenge 2 - Splitting Strings\n",
    "\n",
    "We have first looked at combining strings into one long string. There are times where we need to do the opposite and split the string into smaller components for further analysis. \n",
    "\n",
    "In the cell below, split the string into a list of strings using the space delimiter. Count the frequency of each word in the string in a dictionary. Strip the periods, line breaks and commas from the text. Make sure to remove empty strings from your dictionary."
   ]
  },
  {
   "cell_type": "code",
   "execution_count": 15,
   "metadata": {},
   "outputs": [
    {
     "name": "stdout",
     "output_type": "stream",
     "text": [
      "{'had': 1, 'desire': 1, 'tasted': 1, 'i': 3, 'also': 1, 'hate': 1, 'the': 1, 'in': 2, 'those': 1, 'and': 1, 'to': 2, 'hold': 1, 'say': 3, 'think': 1, 'enough': 1, 'would': 1, 'for': 1, 'i’ve': 1, 'what': 1, 'who': 1, 'if': 1, 'with': 1, 'it': 1, 'fire': 2, 'is': 1, 'world': 1, 'from': 1, 'favor': 1, 'perish': 1, 'but': 1, 'destruction': 1, 'great': 1, 'suffice': 1, 'end': 1, 'of': 2, 'know': 1, 'ice': 2, 'that': 1, 'twice': 1, 'some': 2, 'will': 1}\n",
      "{'had': 1, 'desire': 1, 'tasted': 1, 'i': 3, 'also': 1, 'hate': 1, 'the': 1, 'in': 2, 'those': 1, 'and': 1, 'to': 2, 'hold': 1, 'say': 3, 'think': 1, 'enough': 1, 'would': 1, 'for': 1, 'i’ve': 1, 'what': 1, 'who': 1, 'if': 1, 'with': 1, 'it': 1, 'fire': 2, 'is': 1, 'world': 1, 'from': 1, 'favor': 1, 'perish': 1, 'but': 1, 'destruction': 1, 'great': 1, 'suffice': 1, 'end': 1, 'of': 2, 'know': 1, 'ice': 2, 'that': 1, 'twice': 1, 'some': 2, 'will': 1}\n"
     ]
    }
   ],
   "source": [
    "poem = \"\"\"Some say the world will end in fire,\n",
    "Some say in ice.\n",
    "From what I’ve tasted of desire\n",
    "I hold with those who favor fire.\n",
    "But if it had to perish twice,\n",
    "I think I know enough of hate\n",
    "To say that for destruction ice\n",
    "Is also great\n",
    "And would suffice.\"\"\"\n",
    "\n",
    "# Your code here:\n",
    "\n",
    "poem_no_commas = poem.split(\",\")\n",
    "poem_no_commas_string = \"\".join([fragment for fragment in poem_no_commas])\n",
    "poem_no_periods = poem_no_commas_string.split(\".\")\n",
    "poem_no_periods_string = \"\".join([fragment for fragment in poem_no_periods])\n",
    "\n",
    "poem_transform_newlines = poem_no_periods_string.replace(\"\\n\", \" \").lower()\n",
    "\n",
    "final_poem_no_spaces = poem_transform_newlines.split(\" \")\n",
    "\n",
    "word_counts = [(word, final_poem_no_spaces.count(word)) for word in final_poem_no_spaces]\n",
    "\n",
    "word_list_set = set()\n",
    "for word_count in word_counts:\n",
    "    word_list_set.add(word_count)\n",
    "    \n",
    "words_dict = {}\n",
    "for word_tuple in word_list_set:\n",
    "    words_dict[word_tuple[0]]= word_tuple[1]\n",
    "    \n",
    "print(words_dict)\n",
    "\n",
    "# Segunda opcion usando re.split()\n",
    "import re\n",
    "pattern = r\"[,\\.\\n\\s]\"\n",
    "patterned_poem = re.split(pattern, poem)\n",
    "final_poem = [element.lower() for element in patterned_poem if element != \"\"]\n",
    "\n",
    "word_counts = [(word, final_poem.count(word)) for word in final_poem]\n",
    "\n",
    "word_list_set = set()\n",
    "for word_count in word_counts:\n",
    "    word_list_set.add(word_count)\n",
    "    \n",
    "words_dict = {}\n",
    "for word_tuple in word_list_set:\n",
    "    words_dict[word_tuple[0]]= word_tuple[1]\n",
    "\n",
    "print(words_dict)\n"
   ]
  },
  {
   "cell_type": "markdown",
   "metadata": {},
   "source": [
    "In the cell below, find all the words that appear in the text and do not appear in the blacklist. You must parse the string but can choose any data structure you wish for the words that do not appear in the blacklist. Remove all non letter characters and convert all words to lower case."
   ]
  },
  {
   "cell_type": "code",
   "execution_count": 52,
   "metadata": {},
   "outputs": [
    {
     "name": "stdout",
     "output_type": "stream",
     "text": [
      "['I', 'was', 'angry', 'with', 'my', 'friend', 'I', 'told', 'my', 'wrath', 'my', 'wrath', 'did', 'end', 'I', 'was', 'angry', 'with', 'my', 'foe:', 'I', 'told', 'not', 'my', 'wrath', 'did', 'grow', 'And', 'I', 'waterd', 'fears', 'Night', '&', 'morning', 'with', 'my', 'tears:', 'And', 'I', 'sunned', 'with', 'smiles', 'And', 'with', 'soft', 'deceitful', 'wiles', 'And', 'grew', 'both', 'day', 'night', 'Till', 'bore', 'apple', 'bright', 'And', 'my', 'foe', 'beheld', 'shine', 'And', 'he', 'knew', 'that', 'was', 'mine', 'And', 'into', 'my', 'garden', 'stole', 'When', 'night', 'had', 'veild', 'pole', 'In', 'morning', 'glad', 'I', 'see', 'My', 'foe', 'outstretched', 'beneath', 'tree']\n"
     ]
    }
   ],
   "source": [
    "blacklist = ['and', 'as', 'an', 'a', 'the', 'in', 'it']\n",
    "\n",
    "poem = \"\"\"I was angry with my friend; \n",
    "I told my wrath, my wrath did end.\n",
    "I was angry with my foe: \n",
    "I told it not, my wrath did grow. \n",
    "\n",
    "And I waterd it in fears,\n",
    "Night & morning with my tears: \n",
    "And I sunned it with smiles,\n",
    "And with soft deceitful wiles. \n",
    "\n",
    "And it grew both day and night. \n",
    "Till it bore an apple bright. \n",
    "And my foe beheld it shine,\n",
    "And he knew that it was mine. \n",
    "\n",
    "And into my garden stole, \n",
    "When the night had veild the pole; \n",
    "In the morning glad I see; \n",
    "My foe outstretched beneath the tree.\"\"\"\n",
    "\n",
    "# Your code here:\n",
    "import re\n",
    "poem_just_words = re.split(r\"[;;\\.,\\s]\", poem)\n",
    "poem_just_words_final = [word for word in poem_just_words if len(word) > 0]\n",
    "\n",
    "final_list = [word for word in poem_just_words_final if word not in blacklist]\n",
    "print(final_list)\n"
   ]
  },
  {
   "cell_type": "markdown",
   "metadata": {},
   "source": [
    "# Challenge 3 - Regular Expressions\n",
    "\n",
    "Sometimes, we would like to perform more complex manipulations of our string. This is where regular expressions come in handy. In the cell below, return all characters that are upper case from the string specified below."
   ]
  },
  {
   "cell_type": "code",
   "execution_count": 53,
   "metadata": {},
   "outputs": [
    {
     "data": {
      "text/plain": [
       "['T', 'P']"
      ]
     },
     "execution_count": 53,
     "metadata": {},
     "output_type": "execute_result"
    }
   ],
   "source": [
    "poem = \"\"\"The apparition of these faces in the crowd;\n",
    "Petals on a wet, black bough.\"\"\"\n",
    "\n",
    "# Your code here:\n",
    "pattern = r\"[A-Z]\"\n",
    "result = re.findall(pattern, poem)\n",
    "result\n"
   ]
  },
  {
   "cell_type": "markdown",
   "metadata": {},
   "source": [
    "In the cell below, filter the list provided and return all elements of the list containing a number. To filter the list, use the `re.search` function. Check if the function does not return `None`. You can read more about the `re.search` function [here](https://docs.python.org/3/library/re.html)."
   ]
  },
  {
   "cell_type": "code",
   "execution_count": 54,
   "metadata": {},
   "outputs": [
    {
     "data": {
      "text/plain": [
       "['123abc', 'abc123', 'JohnSmith1', 'ABBY4']"
      ]
     },
     "execution_count": 54,
     "metadata": {},
     "output_type": "execute_result"
    }
   ],
   "source": [
    "data = ['123abc', 'abc123', 'JohnSmith1', 'ABBY4', 'JANE']\n",
    "\n",
    "# Your code here:\n",
    "pattern = r\"[0-9]\"\n",
    "result = [element for element in data if re.search(pattern, element)]\n",
    "result\n"
   ]
  },
  {
   "cell_type": "markdown",
   "metadata": {},
   "source": [
    "# Bonus Challenge - Regular Expressions II\n",
    "\n",
    "In the cell below, filter the list provided to keep only strings containing at least one digit and at least one lower case letter. As in the previous question, use the `re.search` function and check that the result is not `None`.\n",
    "\n",
    "To read more about regular expressions, check out [this link](https://developers.google.com/edu/python/regular-expressions)."
   ]
  },
  {
   "cell_type": "code",
   "execution_count": 56,
   "metadata": {},
   "outputs": [
    {
     "data": {
      "text/plain": [
       "['123abc', 'abc123', 'JohnSmith1']"
      ]
     },
     "execution_count": 56,
     "metadata": {},
     "output_type": "execute_result"
    }
   ],
   "source": [
    "data = ['123abc', 'abc123', 'JohnSmith1', 'ABBY4', 'JANE']\n",
    "# Your code here:\n",
    "pattern = r\"[a-z][0-9]|[0-9][a-z]\"\n",
    "result = [element for element in data if re.search(pattern, element)]\n",
    "result\n"
   ]
  },
  {
   "cell_type": "code",
   "execution_count": null,
   "metadata": {},
   "outputs": [],
   "source": []
  }
 ],
 "metadata": {
  "kernelspec": {
   "display_name": "Python 3",
   "language": "python",
   "name": "python3"
  },
  "language_info": {
   "codemirror_mode": {
    "name": "ipython",
    "version": 3
   },
   "file_extension": ".py",
   "mimetype": "text/x-python",
   "name": "python",
   "nbconvert_exporter": "python",
   "pygments_lexer": "ipython3",
   "version": "3.7.4"
  }
 },
 "nbformat": 4,
 "nbformat_minor": 2
}
